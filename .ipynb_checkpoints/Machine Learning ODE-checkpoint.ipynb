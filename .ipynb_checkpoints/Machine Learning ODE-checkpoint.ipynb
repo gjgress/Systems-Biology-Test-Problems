{
 "cells": [
  {
   "cell_type": "markdown",
   "id": "d0104475-44e2-4857-bc40-02016522955f",
   "metadata": {},
   "source": [
    "In this notebook we demonstrate how we can train a neural network on a system of ODEs to reproduce results. There are two main ways this is done: supervised and unsupervised. In the supervised case, we give the neural network a numerical solution, against which it computes loss via least squares. In the unsupervised case, our loss function is instead given by the ODE itself.\n",
    "\n",
    "In this notebook we only demonstrate a supervised solution approach."
   ]
  },
  {
   "cell_type": "code",
   "execution_count": 50,
   "id": "4cea2bea-f954-47af-b53f-05cfdec0bc35",
   "metadata": {},
   "outputs": [],
   "source": [
    "from scipy.integrate import solve_ivp\n",
    "\n",
    "# We recreate our systems of ODEs, exactly as in the other notebook.\n",
    "\n",
    "t = np.arange(0, 1800, 1, dtype=float)\n",
    "meal_t = np.array([300, 650, 1100])\n",
    "meal_q = np.array([60e3, 40e3, 50e3])\n",
    "Vp=3\n",
    "Vi=11\n",
    "Vg=10\n",
    "E=0.2\n",
    "tp=6\n",
    "ti=100\n",
    "td=12\n",
    "k=1 / 120\n",
    "Rm=209\n",
    "a1=6.6\n",
    "C1=300\n",
    "C2=144\n",
    "C3=100\n",
    "C4=80\n",
    "C5=26\n",
    "Ub=72\n",
    "U0=4\n",
    "Um=90\n",
    "Rg=180\n",
    "alpha=7.5\n",
    "beta=1.772\n",
    "    \n",
    "y0 = np.array([12.0 * Vp, 4.0 * Vi, 110.0 * Vg, 0.0, 0.0, 0.0]) # Initial condition\n",
    "    \n",
    "def sbode(t,y): # For a given state and time, we obtain the values for our partial derivatives\n",
    "    f1 = Rm / (1 + np.exp(-y[2] / Vg / C1 + a1))\n",
    "    f2 = Ub * (1 - np.exp(-y[2] / Vg / C2))\n",
    "    kappa = (1 / Vi + 1 / E / ti) / C4\n",
    "    f3 = (U0 + Um / (1 + (kappa * y[1]) ** (-beta))) / Vg / C3\n",
    "    f4 = Rg / (1 + np.exp(alpha * (y[5] / Vp / C5 - 1)))\n",
    "    IG = np.sum(\n",
    "        meal_q * k * np.exp(k * (meal_t - t)) * np.heaviside(t - meal_t, 0.5)\n",
    "    )\n",
    "    tmp = E * (y[0] / Vp - y[1] / Vi)\n",
    "    return np.array([\n",
    "        f1 - tmp - y[0] / tp,\n",
    "        tmp - y[1] / ti,\n",
    "        f4 + IG - f2 - f3 * y[2],\n",
    "        (y[0] - y[3]) / td,\n",
    "        (y[3] - y[4]) / td,\n",
    "        (y[4] - y[5]) / td,\n",
    "    ])"
   ]
  },
  {
   "cell_type": "code",
   "execution_count": 115,
   "id": "be518967-c6d9-45c1-9966-699e18d9fddb",
   "metadata": {},
   "outputs": [
    {
     "data": {
      "text/plain": [
       "(10003, 6)"
      ]
     },
     "execution_count": 115,
     "metadata": {},
     "output_type": "execute_result"
    },
    {
     "data": {
      "text/plain": [
       "[<matplotlib.lines.Line2D at 0x7f98a6b6ec80>]"
      ]
     },
     "execution_count": 115,
     "metadata": {},
     "output_type": "execute_result"
    },
    {
     "data": {
      "text/plain": [
       "<matplotlib.legend.Legend at 0x7f98a6db24d0>"
      ]
     },
     "execution_count": 115,
     "metadata": {},
     "output_type": "execute_result"
    },
    {
     "data": {
      "text/plain": [
       "Text(0.5, 0, 'Time (mins)')"
      ]
     },
     "execution_count": 115,
     "metadata": {},
     "output_type": "execute_result"
    },
    {
     "data": {
      "text/plain": [
       "Text(0, 0.5, '$I_p$  ( μU/ml )')"
      ]
     },
     "execution_count": 115,
     "metadata": {},
     "output_type": "execute_result"
    },
    {
     "data": {
      "image/png": "[encoded data removed]",
      "text/plain": [
       "<Figure size 432x288 with 1 Axes>"
      ]
     },
     "metadata": {
      "needs_background": "light"
     },
     "output_type": "display_data"
    }
   ],
   "source": [
    "# In this case we will use SciPy's solve_ivp function, and look at a much smaller window, with more datapoints.\n",
    "\n",
    "sol = solve_ivp(sbode, (0, 500), y0, max_step = 0.05)\n",
    "sol.y.T.shape\n",
    "\n",
    "%matplotlib inline\n",
    "import matplotlib.pyplot as plt\n",
    "\n",
    "plt.plot(sol.t, sol.y.T[:,0])\n",
    "plt.legend(['Plasma Insulin Concentration'])\n",
    "plt.xlabel('Time (mins)')\n",
    "plt.ylabel('$I_p$  ( μU/ml )')"
   ]
  },
  {
   "cell_type": "code",
   "execution_count": 108,
   "id": "b5d9de93-5bf6-4e25-9570-452aefdc001a",
   "metadata": {},
   "outputs": [],
   "source": [
    "import autograd.numpy as np\n",
    "from autograd import grad,\n",
    "import autograd.numpy.random\n",
    "from autograd.misc.optimizers import adam\n",
    "\n",
    "def init_random_params(scale, layer_sizes, r=npr.RandomState(0)):\n",
    "    return [(r.randn(insize, outsize) * scale,   # weight matrix\n",
    "             r.randn(outsize) * scale)           # bias vector\n",
    "            for insize, outsize in zip(layer_sizes[:-1], layer_sizes[1:])]\n",
    "\n",
    "def swish(x):\n",
    "    # The activation function of our choice.\n",
    "    return x / (1.0 + np.exp(-x))\n",
    "\n",
    "def SB(params, inputs):\n",
    "    # This is where the NN takes in the current parameters and outputs its solution guess\n",
    "    for W, b in params:\n",
    "        outputs = np.dot(inputs, W) + b\n",
    "        inputs = swish(outputs)\n",
    "    return outputs\n",
    "\n",
    "# The layer size provided here seemed to be most effective, but more experimentation with other layer structures may be of interest\n",
    "params = init_random_params(0.1, layer_sizes=[1, 10, 10, 10, 6])"
   ]
  },
  {
   "cell_type": "code",
   "execution_count": 109,
   "id": "2e6690bf-6845-4d9c-acb4-a9eae21a4bc8",
   "metadata": {},
   "outputs": [],
   "source": [
    "%%time\n",
    "\n",
    "def loss(params, step):\n",
    "    return np.sum((sol.y.T - SB(params, sol.t.reshape([-1, 1])))**2)\n",
    "\n",
    "for i in range(200):\n",
    "    params = adam(grad(loss), params,\n",
    "                  step_size=0.0001, num_iters=1000)"
   ]
  },
  {
   "cell_type": "code",
   "execution_count": 116,
   "id": "68f4b08e-6b02-4288-a285-9d6bda3648ac",
   "metadata": {},
   "outputs": [
    {
     "data": {
      "text/plain": [
       "[<matplotlib.lines.Line2D at 0x7f98a6bb6c20>,\n",
       " <matplotlib.lines.Line2D at 0x7f98a6bb6c80>]"
      ]
     },
     "execution_count": 116,
     "metadata": {},
     "output_type": "execute_result"
    },
    {
     "data": {
      "text/plain": [
       "<matplotlib.legend.Legend at 0x7f98a6b93190>"
      ]
     },
     "execution_count": 116,
     "metadata": {},
     "output_type": "execute_result"
    },
    {
     "data": {
      "text/plain": [
       "Text(0.5, 0, 'Time (mins)')"
      ]
     },
     "execution_count": 116,
     "metadata": {},
     "output_type": "execute_result"
    },
    {
     "data": {
      "text/plain": [
       "Text(0, 0.5, '$I_p$ ( μU/ml )')"
      ]
     },
     "execution_count": 116,
     "metadata": {},
     "output_type": "execute_result"
    },
    {
     "data": {
      "image/png": "[encoded data removed]",
      "text/plain": [
       "<Figure size 432x288 with 1 Axes>"
      ]
     },
     "metadata": {
      "needs_background": "light"
     },
     "output_type": "display_data"
    }
   ],
   "source": [
    "plt.plot(sol.t.reshape([-1, 1]), SB(params, sol.t.reshape([-1, 1]))[:,0],\n",
    "         sol.t, sol.y.T[:,0])\n",
    "plt.legend(['Neural Network I_p','Numerical I_p'])\n",
    "plt.xlabel('Time (mins)')\n",
    "plt.ylabel('$I_p$ ( μU/ml )')"
   ]
  },
  {
   "cell_type": "markdown",
   "id": "29315cc8-b1e6-46e9-8ff3-7f03e39a6374",
   "metadata": {},
   "source": [
    "Neural network-based solutions take much longer to compute to get reasonable accuracy, and so often requires more computing power. Nevertheless, it is clear that as a proof of concept, this method works. The next step would be to perform unsupervised training by using the ODE as the loss function. However, those solutions take even longer to process, and so may not be feasible on my laptop."
   ]
  }
 ],
 "metadata": {
  "kernelspec": {
   "display_name": "Python 3 (ipykernel)",
   "language": "python",
   "name": "python3"
  },
  "language_info": {
   "codemirror_mode": {
    "name": "ipython",
    "version": 3
   },
   "file_extension": ".py",
   "mimetype": "text/x-python",
   "name": "python",
   "nbconvert_exporter": "python",
   "pygments_lexer": "ipython3",
   "version": "3.10.5"
  }
 },
 "nbformat": 4,
 "nbformat_minor": 5
}
